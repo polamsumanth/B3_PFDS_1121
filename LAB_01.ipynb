{
  "nbformat": 4,
  "nbformat_minor": 0,
  "metadata": {
    "colab": {
      "provenance": [],
      "authorship_tag": "ABX9TyNeP/Sqv/twt3KW6M6sHlIV",
      "include_colab_link": true
    },
    "kernelspec": {
      "name": "python3",
      "display_name": "Python 3"
    },
    "language_info": {
      "name": "python"
    }
  },
  "cells": [
    {
      "cell_type": "markdown",
      "metadata": {
        "id": "view-in-github",
        "colab_type": "text"
      },
      "source": [
        "<a href=\"https://colab.research.google.com/github/polamsumanth/B3_PFDS_1121/blob/main/LAB_01.ipynb\" target=\"_parent\"><img src=\"https://colab.research.google.com/assets/colab-badge.svg\" alt=\"Open In Colab\"/></a>"
      ]
    },
    {
      "cell_type": "code",
      "execution_count": 2,
      "metadata": {
        "id": "JSBwC-wh-o1Y"
      },
      "outputs": [],
      "source": [
        "def fact(i, d=0):\n",
        "    space = \"  \" * d\n",
        "    print(f\"{space}Calling fact({i})\")\n",
        "\n",
        "    if i == 0 or i == 1:\n",
        "        print(f\"{space}Base case: fact({i}) = 1\")\n",
        "        return 1\n",
        "    else:\n",
        "        res = i * fact(i - 1, d + 1)\n",
        "        print(f\"{space}Returning: {i} * fact({i - 1}) = {res}\")\n",
        "        return res"
      ]
    },
    {
      "cell_type": "code",
      "source": [
        "while True:\n",
        "    try:\n",
        "        i = int(input(\"Enter a number (≤ 10): \"))\n",
        "        if 0 <= i <= 10:\n",
        "            break\n",
        "        else:\n",
        "            print(\"Please enter a number between 0 and 10.\")\n",
        "    except:\n",
        "        print(\"Invalid input. Enter a number.\")"
      ],
      "metadata": {
        "colab": {
          "base_uri": "https://localhost:8080/"
        },
        "id": "xFPmDNP7DDLZ",
        "outputId": "ecc07d45-edd2-4cf5-bcc4-e34ed924feb7"
      },
      "execution_count": 3,
      "outputs": [
        {
          "name": "stdout",
          "output_type": "stream",
          "text": [
            "Enter a number (≤ 10): 8\n"
          ]
        }
      ]
    },
    {
      "cell_type": "code",
      "source": [
        "print(f\"\\nTracing fact({i}):\\n\")\n",
        "ans = fact(i)\n",
        "print(f\"\\nResult: fact({i}) = {ans}\")"
      ],
      "metadata": {
        "colab": {
          "base_uri": "https://localhost:8080/"
        },
        "id": "6Lwf-vHJDGTp",
        "outputId": "a827bbf4-9fb2-4541-df67-6be52b7b05be"
      },
      "execution_count": 4,
      "outputs": [
        {
          "output_type": "stream",
          "name": "stdout",
          "text": [
            "\n",
            "Tracing fact(8):\n",
            "\n",
            "Calling fact(8)\n",
            "  Calling fact(7)\n",
            "    Calling fact(6)\n",
            "      Calling fact(5)\n",
            "        Calling fact(4)\n",
            "          Calling fact(3)\n",
            "            Calling fact(2)\n",
            "              Calling fact(1)\n",
            "              Base case: fact(1) = 1\n",
            "            Returning: 2 * fact(1) = 2\n",
            "          Returning: 3 * fact(2) = 6\n",
            "        Returning: 4 * fact(3) = 24\n",
            "      Returning: 5 * fact(4) = 120\n",
            "    Returning: 6 * fact(5) = 720\n",
            "  Returning: 7 * fact(6) = 5040\n",
            "Returning: 8 * fact(7) = 40320\n",
            "\n",
            "Result: fact(8) = 40320\n"
          ]
        }
      ]
    }
  ]
}