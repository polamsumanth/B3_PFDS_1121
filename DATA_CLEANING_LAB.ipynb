{
  "nbformat": 4,
  "nbformat_minor": 0,
  "metadata": {
    "colab": {
      "provenance": [],
      "authorship_tag": "ABX9TyNCsCm4NzcY8VvxxnpuIr09",
      "include_colab_link": true
    },
    "kernelspec": {
      "name": "python3",
      "display_name": "Python 3"
    },
    "language_info": {
      "name": "python"
    }
  },
  "cells": [
    {
      "cell_type": "markdown",
      "metadata": {
        "id": "view-in-github",
        "colab_type": "text"
      },
      "source": [
        "<a href=\"https://colab.research.google.com/github/polamsumanth/B3_PFDS_1121/blob/main/DATA_CLEANING_LAB.ipynb\" target=\"_parent\"><img src=\"https://colab.research.google.com/assets/colab-badge.svg\" alt=\"Open In Colab\"/></a>"
      ]
    },
    {
      "cell_type": "markdown",
      "source": [
        "**DETECTING MISSING VALUES**"
      ],
      "metadata": {
        "id": "n_rpXdmxClJQ"
      }
    },
    {
      "cell_type": "code",
      "execution_count": 19,
      "metadata": {
        "colab": {
          "base_uri": "https://localhost:8080/"
        },
        "id": "qnGzOEkMBL0G",
        "outputId": "174d4c32-faea-49a1-bdcd-d8fc35b6fcd7"
      },
      "outputs": [
        {
          "output_type": "stream",
          "name": "stdout",
          "text": [
            "Original Data Frame: \n",
            "     User_ID  Age             Gender  Occupation    Country  \\\n",
            "0          1   36         Non-binary       Sales     Canada   \n",
            "1          2   34             Female   Education         UK   \n",
            "2          3   65         Non-binary       Sales        USA   \n",
            "3          4   34               Male       Other  Australia   \n",
            "4          5   22             Female  Healthcare     Canada   \n",
            "..       ...  ...                ...         ...        ...   \n",
            "995      996   46         Non-binary       Other    Germany   \n",
            "996      997   31               Male       Sales     Canada   \n",
            "997      998   33             Female          IT    Germany   \n",
            "998      999   42             Female     Finance  Australia   \n",
            "999     1000   43  Prefer not to say       Sales    Germany   \n",
            "\n",
            "    Mental_Health_Condition Severity Consultation_History Stress_Level  \\\n",
            "0                        No   Medium                  Yes       Medium   \n",
            "1                       Yes      NaN                   No          Low   \n",
            "2                       Yes     High                   No          Low   \n",
            "3                        No      Low                   No       Medium   \n",
            "4                       Yes      Low                   No       Medium   \n",
            "..                      ...      ...                  ...          ...   \n",
            "995                      No      NaN                  Yes          Low   \n",
            "996                      No      NaN                   No         High   \n",
            "997                      No     High                  Yes       Medium   \n",
            "998                     Yes      NaN                   No       Medium   \n",
            "999                      No      Low                  Yes          Low   \n",
            "\n",
            "     Sleep_Hours  Work_Hours  Physical_Activity_Hours  \n",
            "0            7.1          46                        5  \n",
            "1            7.5          47                        8  \n",
            "2            8.4          58                       10  \n",
            "3            9.8          30                        2  \n",
            "4            4.9          62                        5  \n",
            "..           ...         ...                      ...  \n",
            "995          9.3          50                        0  \n",
            "996          4.5          37                        6  \n",
            "997          9.7          73                       10  \n",
            "998          6.5          79                        8  \n",
            "999          6.0          61                        7  \n",
            "\n",
            "[1000 rows x 12 columns]\n"
          ]
        }
      ],
      "source": [
        "import pandas as pd\n",
        "\n",
        "data = pd.read_csv('/content/mental_health_dataset.csv')\n",
        "df = pd.DataFrame(data)\n",
        "print(\"Original Data Frame: \")\n",
        "print(df)"
      ]
    },
    {
      "cell_type": "code",
      "source": [
        "print(\"\\n Check for Missing Values: \")\n",
        "print(df.isnull())"
      ],
      "metadata": {
        "colab": {
          "base_uri": "https://localhost:8080/"
        },
        "id": "Qlz9G_VSDE03",
        "outputId": "0fa40944-a12f-4371-9246-e960ae0ae299"
      },
      "execution_count": 20,
      "outputs": [
        {
          "output_type": "stream",
          "name": "stdout",
          "text": [
            "\n",
            " Check for Missing Values: \n",
            "     User_ID    Age  Gender  Occupation  Country  Mental_Health_Condition  \\\n",
            "0      False  False   False       False    False                    False   \n",
            "1      False  False   False       False    False                    False   \n",
            "2      False  False   False       False    False                    False   \n",
            "3      False  False   False       False    False                    False   \n",
            "4      False  False   False       False    False                    False   \n",
            "..       ...    ...     ...         ...      ...                      ...   \n",
            "995    False  False   False       False    False                    False   \n",
            "996    False  False   False       False    False                    False   \n",
            "997    False  False   False       False    False                    False   \n",
            "998    False  False   False       False    False                    False   \n",
            "999    False  False   False       False    False                    False   \n",
            "\n",
            "     Severity  Consultation_History  Stress_Level  Sleep_Hours  Work_Hours  \\\n",
            "0       False                 False         False        False       False   \n",
            "1        True                 False         False        False       False   \n",
            "2       False                 False         False        False       False   \n",
            "3       False                 False         False        False       False   \n",
            "4       False                 False         False        False       False   \n",
            "..        ...                   ...           ...          ...         ...   \n",
            "995      True                 False         False        False       False   \n",
            "996      True                 False         False        False       False   \n",
            "997     False                 False         False        False       False   \n",
            "998      True                 False         False        False       False   \n",
            "999     False                 False         False        False       False   \n",
            "\n",
            "     Physical_Activity_Hours  \n",
            "0                      False  \n",
            "1                      False  \n",
            "2                      False  \n",
            "3                      False  \n",
            "4                      False  \n",
            "..                       ...  \n",
            "995                    False  \n",
            "996                    False  \n",
            "997                    False  \n",
            "998                    False  \n",
            "999                    False  \n",
            "\n",
            "[1000 rows x 12 columns]\n"
          ]
        }
      ]
    },
    {
      "cell_type": "markdown",
      "source": [
        "**DROPPING MISIING VALUES**"
      ],
      "metadata": {
        "id": "YctjboEsDmz3"
      }
    },
    {
      "cell_type": "code",
      "source": [
        "df_dropped = df.dropna()\n",
        "print(\"After Dropping Missing Values: \")\n",
        "print(df_dropped)"
      ],
      "metadata": {
        "colab": {
          "base_uri": "https://localhost:8080/"
        },
        "id": "aw8Qj5RfDowE",
        "outputId": "4eabdec4-9d68-4c2b-9479-24a7f43f387a"
      },
      "execution_count": 21,
      "outputs": [
        {
          "output_type": "stream",
          "name": "stdout",
          "text": [
            "After Dropping Missing Values: \n",
            "     User_ID  Age             Gender  Occupation    Country  \\\n",
            "0          1   36         Non-binary       Sales     Canada   \n",
            "2          3   65         Non-binary       Sales        USA   \n",
            "3          4   34               Male       Other  Australia   \n",
            "4          5   22             Female  Healthcare     Canada   \n",
            "5          6   64         Non-binary          IT         UK   \n",
            "..       ...  ...                ...         ...        ...   \n",
            "991      992   40         Non-binary          IT         UK   \n",
            "992      993   52             Female   Education     Canada   \n",
            "993      994   50  Prefer not to say       Sales     Canada   \n",
            "997      998   33             Female          IT    Germany   \n",
            "999     1000   43  Prefer not to say       Sales    Germany   \n",
            "\n",
            "    Mental_Health_Condition Severity Consultation_History Stress_Level  \\\n",
            "0                        No   Medium                  Yes       Medium   \n",
            "2                       Yes     High                   No          Low   \n",
            "3                        No      Low                   No       Medium   \n",
            "4                       Yes      Low                   No       Medium   \n",
            "5                       Yes     High                   No         High   \n",
            "..                      ...      ...                  ...          ...   \n",
            "991                      No     High                  Yes          Low   \n",
            "992                     Yes     High                   No       Medium   \n",
            "993                      No   Medium                  Yes       Medium   \n",
            "997                      No     High                  Yes       Medium   \n",
            "999                      No      Low                  Yes          Low   \n",
            "\n",
            "     Sleep_Hours  Work_Hours  Physical_Activity_Hours  \n",
            "0            7.1          46                        5  \n",
            "2            8.4          58                       10  \n",
            "3            9.8          30                        2  \n",
            "4            4.9          62                        5  \n",
            "5            6.3          34                        0  \n",
            "..           ...         ...                      ...  \n",
            "991          8.2          67                        9  \n",
            "992          7.9          57                        2  \n",
            "993          4.8          71                       10  \n",
            "997          9.7          73                       10  \n",
            "999          6.0          61                        7  \n",
            "\n",
            "[499 rows x 12 columns]\n"
          ]
        }
      ]
    },
    {
      "cell_type": "markdown",
      "source": [
        "**FILLING MISSING VALUES WITH A CONSTANT**"
      ],
      "metadata": {
        "id": "IlA0r1iiD0Cu"
      }
    },
    {
      "cell_type": "code",
      "source": [
        "df_filled = df.fillna(0)\n",
        "print(\"After Filling Missing Values: \")\n",
        "print(df_filled)"
      ],
      "metadata": {
        "colab": {
          "base_uri": "https://localhost:8080/"
        },
        "id": "hWn3u7fWD49k",
        "outputId": "a6502ad6-3097-4953-ce58-56139abc0729"
      },
      "execution_count": 22,
      "outputs": [
        {
          "output_type": "stream",
          "name": "stdout",
          "text": [
            "After Filling Missing Values: \n",
            "     User_ID  Age             Gender  Occupation    Country  \\\n",
            "0          1   36         Non-binary       Sales     Canada   \n",
            "1          2   34             Female   Education         UK   \n",
            "2          3   65         Non-binary       Sales        USA   \n",
            "3          4   34               Male       Other  Australia   \n",
            "4          5   22             Female  Healthcare     Canada   \n",
            "..       ...  ...                ...         ...        ...   \n",
            "995      996   46         Non-binary       Other    Germany   \n",
            "996      997   31               Male       Sales     Canada   \n",
            "997      998   33             Female          IT    Germany   \n",
            "998      999   42             Female     Finance  Australia   \n",
            "999     1000   43  Prefer not to say       Sales    Germany   \n",
            "\n",
            "    Mental_Health_Condition Severity Consultation_History Stress_Level  \\\n",
            "0                        No   Medium                  Yes       Medium   \n",
            "1                       Yes        0                   No          Low   \n",
            "2                       Yes     High                   No          Low   \n",
            "3                        No      Low                   No       Medium   \n",
            "4                       Yes      Low                   No       Medium   \n",
            "..                      ...      ...                  ...          ...   \n",
            "995                      No        0                  Yes          Low   \n",
            "996                      No        0                   No         High   \n",
            "997                      No     High                  Yes       Medium   \n",
            "998                     Yes        0                   No       Medium   \n",
            "999                      No      Low                  Yes          Low   \n",
            "\n",
            "     Sleep_Hours  Work_Hours  Physical_Activity_Hours  \n",
            "0            7.1          46                        5  \n",
            "1            7.5          47                        8  \n",
            "2            8.4          58                       10  \n",
            "3            9.8          30                        2  \n",
            "4            4.9          62                        5  \n",
            "..           ...         ...                      ...  \n",
            "995          9.3          50                        0  \n",
            "996          4.5          37                        6  \n",
            "997          9.7          73                       10  \n",
            "998          6.5          79                        8  \n",
            "999          6.0          61                        7  \n",
            "\n",
            "[1000 rows x 12 columns]\n"
          ]
        }
      ]
    },
    {
      "cell_type": "markdown",
      "source": [
        "**FILLING MISSING VALUES WITH MEAN OF COLUMN**"
      ],
      "metadata": {
        "id": "ufOuFFzJD-0k"
      }
    },
    {
      "cell_type": "code",
      "source": [
        "df['Age'] = df['Age'].fillna(df['Age'].mean())\n",
        "print(\"After Filling Missing Values: \")\n",
        "print(df)"
      ],
      "metadata": {
        "colab": {
          "base_uri": "https://localhost:8080/"
        },
        "id": "3WzBL31OD8s4",
        "outputId": "c4fa20b7-9d8f-43b5-94df-0b0aa8f30808"
      },
      "execution_count": 23,
      "outputs": [
        {
          "output_type": "stream",
          "name": "stdout",
          "text": [
            "After Filling Missing Values: \n",
            "     User_ID  Age             Gender  Occupation    Country  \\\n",
            "0          1   36         Non-binary       Sales     Canada   \n",
            "1          2   34             Female   Education         UK   \n",
            "2          3   65         Non-binary       Sales        USA   \n",
            "3          4   34               Male       Other  Australia   \n",
            "4          5   22             Female  Healthcare     Canada   \n",
            "..       ...  ...                ...         ...        ...   \n",
            "995      996   46         Non-binary       Other    Germany   \n",
            "996      997   31               Male       Sales     Canada   \n",
            "997      998   33             Female          IT    Germany   \n",
            "998      999   42             Female     Finance  Australia   \n",
            "999     1000   43  Prefer not to say       Sales    Germany   \n",
            "\n",
            "    Mental_Health_Condition Severity Consultation_History Stress_Level  \\\n",
            "0                        No   Medium                  Yes       Medium   \n",
            "1                       Yes      NaN                   No          Low   \n",
            "2                       Yes     High                   No          Low   \n",
            "3                        No      Low                   No       Medium   \n",
            "4                       Yes      Low                   No       Medium   \n",
            "..                      ...      ...                  ...          ...   \n",
            "995                      No      NaN                  Yes          Low   \n",
            "996                      No      NaN                   No         High   \n",
            "997                      No     High                  Yes       Medium   \n",
            "998                     Yes      NaN                   No       Medium   \n",
            "999                      No      Low                  Yes          Low   \n",
            "\n",
            "     Sleep_Hours  Work_Hours  Physical_Activity_Hours  \n",
            "0            7.1          46                        5  \n",
            "1            7.5          47                        8  \n",
            "2            8.4          58                       10  \n",
            "3            9.8          30                        2  \n",
            "4            4.9          62                        5  \n",
            "..           ...         ...                      ...  \n",
            "995          9.3          50                        0  \n",
            "996          4.5          37                        6  \n",
            "997          9.7          73                       10  \n",
            "998          6.5          79                        8  \n",
            "999          6.0          61                        7  \n",
            "\n",
            "[1000 rows x 12 columns]\n"
          ]
        }
      ]
    },
    {
      "cell_type": "markdown",
      "source": [
        "**HANDLING DUPLICATES**"
      ],
      "metadata": {
        "id": "ML4xL7WREV1g"
      }
    },
    {
      "cell_type": "code",
      "source": [
        "df_no_duplicates = df.drop_duplicates()\n",
        "print(\"After Removing Duplicates: \")\n",
        "print(df_no_duplicates)"
      ],
      "metadata": {
        "colab": {
          "base_uri": "https://localhost:8080/"
        },
        "id": "f_gA4yShEXxa",
        "outputId": "c710c32e-5484-4a49-c07a-f3cff4d2f63c"
      },
      "execution_count": 24,
      "outputs": [
        {
          "output_type": "stream",
          "name": "stdout",
          "text": [
            "After Removing Duplicates: \n",
            "     User_ID  Age             Gender  Occupation    Country  \\\n",
            "0          1   36         Non-binary       Sales     Canada   \n",
            "1          2   34             Female   Education         UK   \n",
            "2          3   65         Non-binary       Sales        USA   \n",
            "3          4   34               Male       Other  Australia   \n",
            "4          5   22             Female  Healthcare     Canada   \n",
            "..       ...  ...                ...         ...        ...   \n",
            "995      996   46         Non-binary       Other    Germany   \n",
            "996      997   31               Male       Sales     Canada   \n",
            "997      998   33             Female          IT    Germany   \n",
            "998      999   42             Female     Finance  Australia   \n",
            "999     1000   43  Prefer not to say       Sales    Germany   \n",
            "\n",
            "    Mental_Health_Condition Severity Consultation_History Stress_Level  \\\n",
            "0                        No   Medium                  Yes       Medium   \n",
            "1                       Yes      NaN                   No          Low   \n",
            "2                       Yes     High                   No          Low   \n",
            "3                        No      Low                   No       Medium   \n",
            "4                       Yes      Low                   No       Medium   \n",
            "..                      ...      ...                  ...          ...   \n",
            "995                      No      NaN                  Yes          Low   \n",
            "996                      No      NaN                   No         High   \n",
            "997                      No     High                  Yes       Medium   \n",
            "998                     Yes      NaN                   No       Medium   \n",
            "999                      No      Low                  Yes          Low   \n",
            "\n",
            "     Sleep_Hours  Work_Hours  Physical_Activity_Hours  \n",
            "0            7.1          46                        5  \n",
            "1            7.5          47                        8  \n",
            "2            8.4          58                       10  \n",
            "3            9.8          30                        2  \n",
            "4            4.9          62                        5  \n",
            "..           ...         ...                      ...  \n",
            "995          9.3          50                        0  \n",
            "996          4.5          37                        6  \n",
            "997          9.7          73                       10  \n",
            "998          6.5          79                        8  \n",
            "999          6.0          61                        7  \n",
            "\n",
            "[1000 rows x 12 columns]\n"
          ]
        }
      ]
    },
    {
      "cell_type": "markdown",
      "source": [
        "**DATA TRANSFORMATION**"
      ],
      "metadata": {
        "id": "40PXnvkyEsiV"
      }
    },
    {
      "cell_type": "code",
      "source": [
        "print(df.dtypes)"
      ],
      "metadata": {
        "colab": {
          "base_uri": "https://localhost:8080/"
        },
        "id": "gD_9MDG9EsDl",
        "outputId": "4537f598-f4cb-4461-e186-02c5d66c0656"
      },
      "execution_count": 25,
      "outputs": [
        {
          "output_type": "stream",
          "name": "stdout",
          "text": [
            "User_ID                      int64\n",
            "Age                          int64\n",
            "Gender                      object\n",
            "Occupation                  object\n",
            "Country                     object\n",
            "Mental_Health_Condition     object\n",
            "Severity                    object\n",
            "Consultation_History        object\n",
            "Stress_Level                object\n",
            "Sleep_Hours                float64\n",
            "Work_Hours                   int64\n",
            "Physical_Activity_Hours      int64\n",
            "dtype: object\n"
          ]
        }
      ]
    },
    {
      "cell_type": "code",
      "source": [
        "df['Sleep_Hours'] = pd.to_numeric(df['Sleep_Hours'])\n",
        "print(df.dtypes)"
      ],
      "metadata": {
        "colab": {
          "base_uri": "https://localhost:8080/"
        },
        "id": "YDVEemfjE3nN",
        "outputId": "507910e3-a529-4550-c0fa-18aecef45975"
      },
      "execution_count": 26,
      "outputs": [
        {
          "output_type": "stream",
          "name": "stdout",
          "text": [
            "User_ID                      int64\n",
            "Age                          int64\n",
            "Gender                      object\n",
            "Occupation                  object\n",
            "Country                     object\n",
            "Mental_Health_Condition     object\n",
            "Severity                    object\n",
            "Consultation_History        object\n",
            "Stress_Level                object\n",
            "Sleep_Hours                float64\n",
            "Work_Hours                   int64\n",
            "Physical_Activity_Hours      int64\n",
            "dtype: object\n"
          ]
        }
      ]
    },
    {
      "cell_type": "markdown",
      "source": [
        "**APPLYING FUNCTIONS**"
      ],
      "metadata": {
        "id": "DbjraAZSGpol"
      }
    },
    {
      "cell_type": "code",
      "source": [
        "df['Work_Hours'] = df['Work_Hours'].apply(lambda x: x+2)\n",
        "print(\"After Adding Bonus Hours: \")\n",
        "print(df)"
      ],
      "metadata": {
        "colab": {
          "base_uri": "https://localhost:8080/"
        },
        "id": "ThlSfBDKGpDi",
        "outputId": "937d85b3-57ea-4077-964c-18d53ac408d1"
      },
      "execution_count": 27,
      "outputs": [
        {
          "output_type": "stream",
          "name": "stdout",
          "text": [
            "After Adding Bonus Hours: \n",
            "     User_ID  Age             Gender  Occupation    Country  \\\n",
            "0          1   36         Non-binary       Sales     Canada   \n",
            "1          2   34             Female   Education         UK   \n",
            "2          3   65         Non-binary       Sales        USA   \n",
            "3          4   34               Male       Other  Australia   \n",
            "4          5   22             Female  Healthcare     Canada   \n",
            "..       ...  ...                ...         ...        ...   \n",
            "995      996   46         Non-binary       Other    Germany   \n",
            "996      997   31               Male       Sales     Canada   \n",
            "997      998   33             Female          IT    Germany   \n",
            "998      999   42             Female     Finance  Australia   \n",
            "999     1000   43  Prefer not to say       Sales    Germany   \n",
            "\n",
            "    Mental_Health_Condition Severity Consultation_History Stress_Level  \\\n",
            "0                        No   Medium                  Yes       Medium   \n",
            "1                       Yes      NaN                   No          Low   \n",
            "2                       Yes     High                   No          Low   \n",
            "3                        No      Low                   No       Medium   \n",
            "4                       Yes      Low                   No       Medium   \n",
            "..                      ...      ...                  ...          ...   \n",
            "995                      No      NaN                  Yes          Low   \n",
            "996                      No      NaN                   No         High   \n",
            "997                      No     High                  Yes       Medium   \n",
            "998                     Yes      NaN                   No       Medium   \n",
            "999                      No      Low                  Yes          Low   \n",
            "\n",
            "     Sleep_Hours  Work_Hours  Physical_Activity_Hours  \n",
            "0            7.1          48                        5  \n",
            "1            7.5          49                        8  \n",
            "2            8.4          60                       10  \n",
            "3            9.8          32                        2  \n",
            "4            4.9          64                        5  \n",
            "..           ...         ...                      ...  \n",
            "995          9.3          52                        0  \n",
            "996          4.5          39                        6  \n",
            "997          9.7          75                       10  \n",
            "998          6.5          81                        8  \n",
            "999          6.0          63                        7  \n",
            "\n",
            "[1000 rows x 12 columns]\n"
          ]
        }
      ]
    },
    {
      "cell_type": "markdown",
      "source": [
        "**NORMALIZATION**"
      ],
      "metadata": {
        "id": "XFfI-B90HiNN"
      }
    },
    {
      "cell_type": "code",
      "source": [
        "df['Work_Hours_Normalization'] = (df['Work_Hours'] - df['Work_Hours'].min()) / (df['Work_Hours'].max() - df['Work_Hours'].min())\n",
        "print(\"After Normalization: \")\n",
        "print(df)"
      ],
      "metadata": {
        "colab": {
          "base_uri": "https://localhost:8080/"
        },
        "id": "pYfdZ2r1HlBm",
        "outputId": "747ac75d-1f2d-4959-ce12-4c6a8fef1818"
      },
      "execution_count": 28,
      "outputs": [
        {
          "output_type": "stream",
          "name": "stdout",
          "text": [
            "After Normalization: \n",
            "     User_ID  Age             Gender  Occupation    Country  \\\n",
            "0          1   36         Non-binary       Sales     Canada   \n",
            "1          2   34             Female   Education         UK   \n",
            "2          3   65         Non-binary       Sales        USA   \n",
            "3          4   34               Male       Other  Australia   \n",
            "4          5   22             Female  Healthcare     Canada   \n",
            "..       ...  ...                ...         ...        ...   \n",
            "995      996   46         Non-binary       Other    Germany   \n",
            "996      997   31               Male       Sales     Canada   \n",
            "997      998   33             Female          IT    Germany   \n",
            "998      999   42             Female     Finance  Australia   \n",
            "999     1000   43  Prefer not to say       Sales    Germany   \n",
            "\n",
            "    Mental_Health_Condition Severity Consultation_History Stress_Level  \\\n",
            "0                        No   Medium                  Yes       Medium   \n",
            "1                       Yes      NaN                   No          Low   \n",
            "2                       Yes     High                   No          Low   \n",
            "3                        No      Low                   No       Medium   \n",
            "4                       Yes      Low                   No       Medium   \n",
            "..                      ...      ...                  ...          ...   \n",
            "995                      No      NaN                  Yes          Low   \n",
            "996                      No      NaN                   No         High   \n",
            "997                      No     High                  Yes       Medium   \n",
            "998                     Yes      NaN                   No       Medium   \n",
            "999                      No      Low                  Yes          Low   \n",
            "\n",
            "     Sleep_Hours  Work_Hours  Physical_Activity_Hours  \\\n",
            "0            7.1          48                        5   \n",
            "1            7.5          49                        8   \n",
            "2            8.4          60                       10   \n",
            "3            9.8          32                        2   \n",
            "4            4.9          64                        5   \n",
            "..           ...         ...                      ...   \n",
            "995          9.3          52                        0   \n",
            "996          4.5          39                        6   \n",
            "997          9.7          75                       10   \n",
            "998          6.5          81                        8   \n",
            "999          6.0          63                        7   \n",
            "\n",
            "     Work_Hours_Normalization  \n",
            "0                        0.32  \n",
            "1                        0.34  \n",
            "2                        0.56  \n",
            "3                        0.00  \n",
            "4                        0.64  \n",
            "..                        ...  \n",
            "995                      0.40  \n",
            "996                      0.14  \n",
            "997                      0.86  \n",
            "998                      0.98  \n",
            "999                      0.62  \n",
            "\n",
            "[1000 rows x 13 columns]\n"
          ]
        }
      ]
    },
    {
      "cell_type": "markdown",
      "source": [
        "**MERGING DATASETS**"
      ],
      "metadata": {
        "id": "SJ68WF8VLXkp"
      }
    },
    {
      "cell_type": "code",
      "source": [
        "d ={\n",
        "    'ID':[1,2,3],\n",
        "    'Name':['THRISHOOL','SUMANTH','RISHAAK'],\n",
        "    'Age':[25,30,28],\n",
        "    'Marks':[85,90,92]\n",
        "}"
      ],
      "metadata": {
        "id": "g-TCOBO_La54"
      },
      "execution_count": 29,
      "outputs": []
    },
    {
      "cell_type": "code",
      "source": [
        "course={\n",
        "    'Id':[1,2,3],\n",
        "    'Course':['PFDS','FAM','DL']\n",
        "}"
      ],
      "metadata": {
        "id": "U14ty7MwLeWK"
      },
      "execution_count": 30,
      "outputs": []
    },
    {
      "cell_type": "code",
      "source": [
        "merged_d=pd.merge(pd.DataFrame(d),pd.DataFrame(course),left_on='ID',right_on='Id')\n",
        "print(merged_d)"
      ],
      "metadata": {
        "colab": {
          "base_uri": "https://localhost:8080/"
        },
        "id": "bT9k44URLg9j",
        "outputId": "685804eb-e575-4dd8-ac46-83eca49c7f29"
      },
      "execution_count": 31,
      "outputs": [
        {
          "output_type": "stream",
          "name": "stdout",
          "text": [
            "   ID       Name  Age  Marks  Id Course\n",
            "0   1  THRISHOOL   25     85   1   PFDS\n",
            "1   2    SUMANTH   30     90   2    FAM\n",
            "2   3    RISHAAK   28     92   3     DL\n"
          ]
        }
      ]
    }
  ]
}