{
  "nbformat": 4,
  "nbformat_minor": 0,
  "metadata": {
    "colab": {
      "provenance": [],
      "authorship_tag": "ABX9TyNnb9nRhJOgzzuIIReRorzc",
      "include_colab_link": true
    },
    "kernelspec": {
      "name": "python3",
      "display_name": "Python 3"
    },
    "language_info": {
      "name": "python"
    }
  },
  "cells": [
    {
      "cell_type": "markdown",
      "metadata": {
        "id": "view-in-github",
        "colab_type": "text"
      },
      "source": [
        "<a href=\"https://colab.research.google.com/github/polamsumanth/B3_PFDS_1121/blob/main/LAB_06_DATETIME.ipynb\" target=\"_parent\"><img src=\"https://colab.research.google.com/assets/colab-badge.svg\" alt=\"Open In Colab\"/></a>"
      ]
    },
    {
      "cell_type": "markdown",
      "source": [
        "**WORKING WITH DATETIME IN PYTHON**"
      ],
      "metadata": {
        "id": "4Omu2-1L3vgR"
      }
    },
    {
      "cell_type": "code",
      "execution_count": 1,
      "metadata": {
        "colab": {
          "base_uri": "https://localhost:8080/"
        },
        "id": "Hx0hOvgQ3Y8w",
        "outputId": "1bd9bcb0-25be-46f9-b955-4bc0e92a71fc"
      },
      "outputs": [
        {
          "output_type": "stream",
          "name": "stdout",
          "text": [
            "2025-08-22 10:30:00\n"
          ]
        }
      ],
      "source": [
        "from datetime import datetime\n",
        "\n",
        "df = datetime(2025, 8, 22, 10, 30 ,0)\n",
        "print(df)"
      ]
    },
    {
      "cell_type": "markdown",
      "source": [
        "**CONVERTING STRINGS TO DATETIME IN PANDAS**"
      ],
      "metadata": {
        "id": "ohSbWvXq30vp"
      }
    },
    {
      "cell_type": "code",
      "source": [
        "import pandas as pd\n",
        "\n",
        "date_str = ['2025-08-22', '2025-08-23']\n",
        "dates = pd.to_datetime(date_str)\n",
        "print(dates)"
      ],
      "metadata": {
        "colab": {
          "base_uri": "https://localhost:8080/"
        },
        "id": "pgdYqwqf342I",
        "outputId": "4543f7a2-8c67-4c4c-a4aa-4f0b3e47ee5c"
      },
      "execution_count": 2,
      "outputs": [
        {
          "output_type": "stream",
          "name": "stdout",
          "text": [
            "DatetimeIndex(['2025-08-22', '2025-08-23'], dtype='datetime64[ns]', freq=None)\n"
          ]
        }
      ]
    },
    {
      "cell_type": "markdown",
      "source": [
        "**EXTRACTING DATE AND TIME COMPONENTS**"
      ],
      "metadata": {
        "id": "zQTADBLz4xjD"
      }
    },
    {
      "cell_type": "code",
      "source": [
        "ls = pd.to_datetime(\"2025-08-22, 5:45:30\")\n",
        "print(ls.year)\n",
        "print(ls.month)\n",
        "print(ls.day)\n",
        "print(ls.weekday())\n",
        "print(ls.hour)"
      ],
      "metadata": {
        "colab": {
          "base_uri": "https://localhost:8080/"
        },
        "id": "dket7SQd422r",
        "outputId": "4bb2f419-b2ef-4604-d119-ed90b0747e19"
      },
      "execution_count": 3,
      "outputs": [
        {
          "output_type": "stream",
          "name": "stdout",
          "text": [
            "2025\n",
            "8\n",
            "22\n",
            "4\n",
            "5\n"
          ]
        }
      ]
    },
    {
      "cell_type": "markdown",
      "source": [
        "**CREATING DATE RANGES**"
      ],
      "metadata": {
        "id": "-Bc-YMve5ZpO"
      }
    },
    {
      "cell_type": "code",
      "source": [
        "pd.date_range(start = '2025-01-01', periods = 10, freq = 'ME' )\n",
        "print(df)"
      ],
      "metadata": {
        "colab": {
          "base_uri": "https://localhost:8080/"
        },
        "id": "YtdfQXVq5cwe",
        "outputId": "9d53686f-dffa-420f-9ab7-6032670bd27d"
      },
      "execution_count": 4,
      "outputs": [
        {
          "output_type": "stream",
          "name": "stdout",
          "text": [
            "2025-08-22 10:30:00\n"
          ]
        }
      ]
    },
    {
      "cell_type": "markdown",
      "source": [
        "**CREATING TIME SERIES**"
      ],
      "metadata": {
        "id": "og9b42aj6Sq4"
      }
    },
    {
      "cell_type": "code",
      "source": [
        "import pandas as pd\n",
        "import numpy as np\n",
        "\n",
        "dates = pd.date_range('2025-01-01', periods = 6, freq = 'D')\n",
        "df = pd.Series(np.random.randn(6), index = dates)\n",
        "print(df)"
      ],
      "metadata": {
        "colab": {
          "base_uri": "https://localhost:8080/"
        },
        "id": "HCh3XUah6VDQ",
        "outputId": "a56f6b38-1efe-4b2d-8e1d-b831471f69c0"
      },
      "execution_count": 5,
      "outputs": [
        {
          "output_type": "stream",
          "name": "stdout",
          "text": [
            "2025-01-01   -1.171726\n",
            "2025-01-02   -1.784343\n",
            "2025-01-03   -0.727409\n",
            "2025-01-04   -0.451473\n",
            "2025-01-05   -0.443382\n",
            "2025-01-06   -1.729722\n",
            "Freq: D, dtype: float64\n"
          ]
        }
      ]
    },
    {
      "cell_type": "markdown",
      "source": [
        "**INDEXING AND SLICING WITH DATES**"
      ],
      "metadata": {
        "id": "Xs3-taNF6uIO"
      }
    },
    {
      "cell_type": "code",
      "source": [
        "print(df['2025-01-02'])\n",
        "print(df['2025-01-02':'2025-01-04'])"
      ],
      "metadata": {
        "colab": {
          "base_uri": "https://localhost:8080/"
        },
        "id": "55h1Q24d6zAx",
        "outputId": "44417721-fa09-4474-8096-c3555ea2990e"
      },
      "execution_count": 7,
      "outputs": [
        {
          "output_type": "stream",
          "name": "stdout",
          "text": [
            "-1.784342662674741\n",
            "2025-01-02   -1.784343\n",
            "2025-01-03   -0.727409\n",
            "2025-01-04   -0.451473\n",
            "Freq: D, dtype: float64\n"
          ]
        }
      ]
    },
    {
      "cell_type": "markdown",
      "source": [
        "**TIME BASED INDEXING**"
      ],
      "metadata": {
        "id": "edW3sgnF7Usd"
      }
    },
    {
      "cell_type": "code",
      "source": [
        "print(ls['2025-01-01'])"
      ],
      "metadata": {
        "colab": {
          "base_uri": "https://localhost:8080/"
        },
        "id": "LPXXetIq7wY1",
        "outputId": "0a9b878f-cdc2-4acf-f784-dab2089faaa4"
      },
      "execution_count": 15,
      "outputs": [
        {
          "output_type": "stream",
          "name": "stdout",
          "text": [
            "0.055382504839654435\n"
          ]
        }
      ]
    },
    {
      "cell_type": "code",
      "metadata": {
        "colab": {
          "base_uri": "https://localhost:8080/"
        },
        "id": "d519ed6e",
        "outputId": "d835ef3a-91d4-4b62-c44d-88d9a84244fe"
      },
      "source": [
        "print(df['2025-01-01'])"
      ],
      "execution_count": 9,
      "outputs": [
        {
          "output_type": "stream",
          "name": "stdout",
          "text": [
            "-1.171725923822444\n"
          ]
        }
      ]
    },
    {
      "cell_type": "markdown",
      "source": [
        "**TIME BASED OPERATIONS IN PANDAS**"
      ],
      "metadata": {
        "id": "rBd165hb768Y"
      }
    },
    {
      "cell_type": "code",
      "source": [
        "ls = pd.Series(np.random.randn(6), index = pd.date_range('2025-01-01', periods = 6, freq = 'D'))\n",
        "print(ls)\n",
        "monthly_mean = ls.resample('M').mean()\n",
        "print(monthly_mean)"
      ],
      "metadata": {
        "colab": {
          "base_uri": "https://localhost:8080/"
        },
        "id": "zT2oQZ9o8C1m",
        "outputId": "4a0b9a2c-846a-4c96-f873-888f4be06ed0"
      },
      "execution_count": 12,
      "outputs": [
        {
          "output_type": "stream",
          "name": "stdout",
          "text": [
            "2025-01-01    0.055383\n",
            "2025-01-02    0.922276\n",
            "2025-01-03    0.096174\n",
            "2025-01-04    0.572849\n",
            "2025-01-05   -1.901192\n",
            "2025-01-06    0.770766\n",
            "Freq: D, dtype: float64\n",
            "2025-01-31    0.086043\n",
            "Freq: ME, dtype: float64\n"
          ]
        },
        {
          "output_type": "stream",
          "name": "stderr",
          "text": [
            "/tmp/ipython-input-599836450.py:3: FutureWarning: 'M' is deprecated and will be removed in a future version, please use 'ME' instead.\n",
            "  monthly_mean = ls.resample('M').mean()\n"
          ]
        }
      ]
    },
    {
      "cell_type": "markdown",
      "source": [
        "**SHIFTING DATE**"
      ],
      "metadata": {
        "id": "xvfMeRSl8NKR"
      }
    },
    {
      "cell_type": "code",
      "source": [
        "print(ls.shift(1))\n",
        "print(ls.shift(-1))"
      ],
      "metadata": {
        "colab": {
          "base_uri": "https://localhost:8080/"
        },
        "id": "KGYjyD3a8QIm",
        "outputId": "bfd28af4-d8a5-45db-d1d6-c397b3b8dccf"
      },
      "execution_count": 11,
      "outputs": [
        {
          "output_type": "stream",
          "name": "stdout",
          "text": [
            "2025-01-01         NaN\n",
            "2025-01-02   -0.030913\n",
            "2025-01-03    1.154936\n",
            "2025-01-04    1.326683\n",
            "2025-01-05    0.616945\n",
            "2025-01-06   -0.455562\n",
            "Freq: D, dtype: float64\n",
            "2025-01-01    1.154936\n",
            "2025-01-02    1.326683\n",
            "2025-01-03    0.616945\n",
            "2025-01-04   -0.455562\n",
            "2025-01-05   -0.245281\n",
            "2025-01-06         NaN\n",
            "Freq: D, dtype: float64\n"
          ]
        }
      ]
    },
    {
      "cell_type": "markdown",
      "source": [
        "**ROLLING OR MOVING WINDOW**"
      ],
      "metadata": {
        "id": "6cSiL2fO8w4O"
      }
    },
    {
      "cell_type": "code",
      "source": [
        "print(ls.rolling(window = 2).mean())"
      ],
      "metadata": {
        "colab": {
          "base_uri": "https://localhost:8080/"
        },
        "id": "xuMrGbzA80VT",
        "outputId": "82dc6cb6-d6bc-4120-956b-c6dc5551aa18"
      },
      "execution_count": 13,
      "outputs": [
        {
          "output_type": "stream",
          "name": "stdout",
          "text": [
            "2025-01-01         NaN\n",
            "2025-01-02    0.488829\n",
            "2025-01-03    0.509225\n",
            "2025-01-04    0.334511\n",
            "2025-01-05   -0.664172\n",
            "2025-01-06   -0.565213\n",
            "Freq: D, dtype: float64\n"
          ]
        }
      ]
    },
    {
      "cell_type": "markdown",
      "source": [
        "**EXAMPLE**"
      ],
      "metadata": {
        "id": "Q_S4niQU9IwT"
      }
    },
    {
      "cell_type": "code",
      "source": [
        "dates = pd.date_range('2025-01-01', periods = 5, freq = 'D')\n",
        "prices = pd.Series([100, 102, 99, 105, 110], index = dates)\n",
        "print(\"Original Prices == \\n\", prices)\n",
        "print(\"/day Moving Avg \\n\")\n",
        "prices = prices.rolling(window = 2, min_periods = 1).mean()\n",
        "print(prices)"
      ],
      "metadata": {
        "colab": {
          "base_uri": "https://localhost:8080/"
        },
        "id": "LdnI9BeW9KVF",
        "outputId": "afab122f-ec81-45f6-eb91-ab9aaefd6f49"
      },
      "execution_count": 18,
      "outputs": [
        {
          "output_type": "stream",
          "name": "stdout",
          "text": [
            "Original Prices == \n",
            " 2025-01-01    100\n",
            "2025-01-02    102\n",
            "2025-01-03     99\n",
            "2025-01-04    105\n",
            "2025-01-05    110\n",
            "Freq: D, dtype: int64\n",
            "/day Moving Avg \n",
            "\n",
            "2025-01-01    100.0\n",
            "2025-01-02    101.0\n",
            "2025-01-03    100.5\n",
            "2025-01-04    102.0\n",
            "2025-01-05    107.5\n",
            "Freq: D, dtype: float64\n"
          ]
        }
      ]
    },
    {
      "cell_type": "markdown",
      "source": [
        "**TEMPERATURE READINGS**"
      ],
      "metadata": {
        "id": "-eJd6aWq-a67"
      }
    },
    {
      "cell_type": "code",
      "source": [
        "dates = pd.date_range('2025-01-01', periods=24, freq='H')\n",
        "temps = pd.Series(np.random.randint(25, 35, 24), index=dates)\n",
        "print(\"Hourly Date : \\n\", temps)"
      ],
      "metadata": {
        "colab": {
          "base_uri": "https://localhost:8080/"
        },
        "id": "mz0gjvBV-eky",
        "outputId": "3d556f3b-7ccf-496f-dbd2-b031edda9eee"
      },
      "execution_count": 21,
      "outputs": [
        {
          "output_type": "stream",
          "name": "stdout",
          "text": [
            "Hourly Date : \n",
            " 2025-01-01 00:00:00    25\n",
            "2025-01-01 01:00:00    34\n",
            "2025-01-01 02:00:00    34\n",
            "2025-01-01 03:00:00    26\n",
            "2025-01-01 04:00:00    25\n",
            "2025-01-01 05:00:00    31\n",
            "2025-01-01 06:00:00    30\n",
            "2025-01-01 07:00:00    26\n",
            "2025-01-01 08:00:00    28\n",
            "2025-01-01 09:00:00    29\n",
            "2025-01-01 10:00:00    29\n",
            "2025-01-01 11:00:00    33\n",
            "2025-01-01 12:00:00    30\n",
            "2025-01-01 13:00:00    31\n",
            "2025-01-01 14:00:00    27\n",
            "2025-01-01 15:00:00    31\n",
            "2025-01-01 16:00:00    30\n",
            "2025-01-01 17:00:00    30\n",
            "2025-01-01 18:00:00    32\n",
            "2025-01-01 19:00:00    25\n",
            "2025-01-01 20:00:00    27\n",
            "2025-01-01 21:00:00    26\n",
            "2025-01-01 22:00:00    27\n",
            "2025-01-01 23:00:00    32\n",
            "Freq: h, dtype: int64\n"
          ]
        },
        {
          "output_type": "stream",
          "name": "stderr",
          "text": [
            "/tmp/ipython-input-917085433.py:1: FutureWarning: 'H' is deprecated and will be removed in a future version, please use 'h' instead.\n",
            "  dates = pd.date_range('2025-01-01', periods=24, freq='H')\n"
          ]
        }
      ]
    },
    {
      "cell_type": "markdown",
      "source": [
        "**LAB - 06**"
      ],
      "metadata": {
        "id": "QQ5YmTEA_u_X"
      }
    },
    {
      "cell_type": "markdown",
      "source": [
        "**QUESTION - 03**"
      ],
      "metadata": {
        "id": "vdUhFE1OBSlX"
      }
    },
    {
      "cell_type": "code",
      "source": [
        "import pandas as pd\n",
        "\n",
        "data = {\n",
        "    \"TransactionID\": [101, 102, 103, 104, 105, 102, 104],\n",
        "    \"Customer\": [\"Alice\", \"Bob\", \"Charlie\", \"David\", \"Eva\", \"Bob\", \"David\"],\n",
        "    \"Product\": [\"Laptop\", \"Phone\", \"Tablet\", \"Laptop\", \"Phone\", \"Phone\", \"Laptop\"],\n",
        "    \"Amount\": [1200, 800, 300, 1200, 800, 800, 1200],\n",
        "    \"Date\": [\"2024-01-01\", \"2024-01-02\", \"2024-01-03\",\n",
        "             \"2024-01-04\", \"2024-01-05\", \"2024-01-02\", \"2024-01-04\"]\n",
        "}\n",
        "\n",
        "df = pd.DataFrame(data)\n",
        "print(\"Original Dataset:\\n\", df)\n",
        "\n",
        "duplicates = df.duplicated()\n",
        "print(\"\\nNumber of duplicate rows:\", duplicates.sum())\n",
        "\n",
        "df_cleaned = df.drop_duplicates()\n",
        "print(\"\\nCleaned Dataset:\\n\", df_cleaned)\n",
        "\n",
        "print(\"\\nBefore removing duplicates:\", len(df))\n",
        "print(\"After removing duplicates:\", len(df_cleaned))"
      ],
      "metadata": {
        "colab": {
          "base_uri": "https://localhost:8080/"
        },
        "id": "W3hEsHK1_xPb",
        "outputId": "986bc5c2-13ca-4ecb-adc1-337d36ddbf02"
      },
      "execution_count": 22,
      "outputs": [
        {
          "output_type": "stream",
          "name": "stdout",
          "text": [
            "Original Dataset:\n",
            "    TransactionID Customer Product  Amount        Date\n",
            "0            101    Alice  Laptop    1200  2024-01-01\n",
            "1            102      Bob   Phone     800  2024-01-02\n",
            "2            103  Charlie  Tablet     300  2024-01-03\n",
            "3            104    David  Laptop    1200  2024-01-04\n",
            "4            105      Eva   Phone     800  2024-01-05\n",
            "5            102      Bob   Phone     800  2024-01-02\n",
            "6            104    David  Laptop    1200  2024-01-04\n",
            "\n",
            "Number of duplicate rows: 2\n",
            "\n",
            "Cleaned Dataset:\n",
            "    TransactionID Customer Product  Amount        Date\n",
            "0            101    Alice  Laptop    1200  2024-01-01\n",
            "1            102      Bob   Phone     800  2024-01-02\n",
            "2            103  Charlie  Tablet     300  2024-01-03\n",
            "3            104    David  Laptop    1200  2024-01-04\n",
            "4            105      Eva   Phone     800  2024-01-05\n",
            "\n",
            "Before removing duplicates: 7\n",
            "After removing duplicates: 5\n"
          ]
        }
      ]
    },
    {
      "cell_type": "markdown",
      "source": [
        "**QUESTION - 04**"
      ],
      "metadata": {
        "id": "wC2UwP3IBVqg"
      }
    },
    {
      "cell_type": "code",
      "source": [
        "import pandas as pd\n",
        "\n",
        "data = {\n",
        "    \"EmployeeID\": [1, 2, 3, 4],\n",
        "    \"Name\": [\"Alice\", \"Bob\", \"Charlie\", \"David\"],\n",
        "    \"Salary\": [\"50000\", \"60000\", \"55000\", \"70000\"],\n",
        "    \"Joining_Date\": [\"2021-05-10\", \"2020-08-15\", \"2022-01-20\", \"2019-11-30\"]\n",
        "}\n",
        "\n",
        "df = pd.DataFrame(data)\n",
        "print(\"Original Dataset:\\n\", df.dtypes)\n",
        "\n",
        "df[\"Salary\"] = pd.to_numeric(df[\"Salary\"])\n",
        "df[\"Joining_Date\"] = pd.to_datetime(df[\"Joining_Date\"])\n",
        "\n",
        "print(\"\\nConverted Dataset:\\n\", df.dtypes)\n",
        "print(\"\\nFinal Dataset:\\n\", df)"
      ],
      "metadata": {
        "colab": {
          "base_uri": "https://localhost:8080/"
        },
        "id": "MXJJ51JzBXeX",
        "outputId": "506150ab-8028-4da4-ec0d-e6dcad6f53fe"
      },
      "execution_count": 23,
      "outputs": [
        {
          "output_type": "stream",
          "name": "stdout",
          "text": [
            "Original Dataset:\n",
            " EmployeeID       int64\n",
            "Name            object\n",
            "Salary          object\n",
            "Joining_Date    object\n",
            "dtype: object\n",
            "\n",
            "Converted Dataset:\n",
            " EmployeeID               int64\n",
            "Name                    object\n",
            "Salary                   int64\n",
            "Joining_Date    datetime64[ns]\n",
            "dtype: object\n",
            "\n",
            "Final Dataset:\n",
            "    EmployeeID     Name  Salary Joining_Date\n",
            "0           1    Alice   50000   2021-05-10\n",
            "1           2      Bob   60000   2020-08-15\n",
            "2           3  Charlie   55000   2022-01-20\n",
            "3           4    David   70000   2019-11-30\n"
          ]
        }
      ]
    }
  ]
}