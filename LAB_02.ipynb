{
  "nbformat": 4,
  "nbformat_minor": 0,
  "metadata": {
    "colab": {
      "provenance": [],
      "authorship_tag": "ABX9TyMtLOKFBMlGoSmzjG0QyfGf",
      "include_colab_link": true
    },
    "kernelspec": {
      "name": "python3",
      "display_name": "Python 3"
    },
    "language_info": {
      "name": "python"
    }
  },
  "cells": [
    {
      "cell_type": "markdown",
      "metadata": {
        "id": "view-in-github",
        "colab_type": "text"
      },
      "source": [
        "<a href=\"https://colab.research.google.com/github/polamsumanth/B3_PFDS_1121/blob/main/LAB_02.ipynb\" target=\"_parent\"><img src=\"https://colab.research.google.com/assets/colab-badge.svg\" alt=\"Open In Colab\"/></a>"
      ]
    },
    {
      "cell_type": "code",
      "execution_count": 7,
      "metadata": {
        "colab": {
          "base_uri": "https://localhost:8080/"
        },
        "id": "fCXZbylDDsVO",
        "outputId": "d00d4793-b431-4e5b-efce-afbd0f784c44"
      },
      "outputs": [
        {
          "output_type": "stream",
          "name": "stdout",
          "text": [
            "All Marks:\n",
            " [[85 78 92]\n",
            " [76 88 81]\n",
            " [90 94 89]\n",
            " [65 70 72]\n",
            " [88 91 85]]\n"
          ]
        }
      ],
      "source": [
        "import numpy as np\n",
        "\n",
        "a = np.array([\n",
        "    [85, 78, 92],\n",
        "    [76, 88, 81],\n",
        "    [90, 94, 89],\n",
        "    [65, 70, 72],\n",
        "    [88, 91, 85]\n",
        "])\n",
        "\n",
        "print(\"All Marks:\\n\", a)"
      ]
    },
    {
      "cell_type": "code",
      "source": [
        "b = np.mean(a, axis=1)\n",
        "c = np.min(a, axis=1)\n",
        "d = np.max(a, axis=1)\n",
        "\n",
        "print(\"\\nAverage Marks:\", b)\n",
        "print(\"Minimum Marks:\", c)\n",
        "print(\"Maximum Marks:\", d)"
      ],
      "metadata": {
        "colab": {
          "base_uri": "https://localhost:8080/"
        },
        "id": "-Wmz9qabEDRX",
        "outputId": "29d6d170-6ede-4888-9c40-dbca977d6bef"
      },
      "execution_count": 8,
      "outputs": [
        {
          "output_type": "stream",
          "name": "stdout",
          "text": [
            "\n",
            "Average Marks: [85.         81.66666667 91.         69.         88.        ]\n",
            "Minimum Marks: [78 76 89 65 85]\n",
            "Maximum Marks: [92 88 94 72 91]\n"
          ]
        }
      ]
    },
    {
      "cell_type": "code",
      "source": [
        "e = a[[0, 2]]\n",
        "print(\"\\nMarks of Student 1 and 3:\\n\", e)"
      ],
      "metadata": {
        "colab": {
          "base_uri": "https://localhost:8080/"
        },
        "id": "aP29g34XEF0v",
        "outputId": "2689dbf4-2468-46cb-9c29-746d01617bf9"
      },
      "execution_count": 9,
      "outputs": [
        {
          "output_type": "stream",
          "name": "stdout",
          "text": [
            "\n",
            "Marks of Student 1 and 3:\n",
            " [[85 78 92]\n",
            " [90 94 89]]\n"
          ]
        }
      ]
    },
    {
      "cell_type": "code",
      "source": [
        "f = np.any(a > 80, axis=1)\n",
        "g = a[f]\n",
        "\n",
        "print(\"\\nStudents scoring above 80 in any subject:\\n\", g)"
      ],
      "metadata": {
        "colab": {
          "base_uri": "https://localhost:8080/"
        },
        "id": "BMQCCFGfELiR",
        "outputId": "10ca596a-679a-4e40-ab39-c74741c65ba1"
      },
      "execution_count": 10,
      "outputs": [
        {
          "output_type": "stream",
          "name": "stdout",
          "text": [
            "\n",
            "Students scoring above 80 in any subject:\n",
            " [[85 78 92]\n",
            " [76 88 81]\n",
            " [90 94 89]\n",
            " [88 91 85]]\n"
          ]
        }
      ]
    },
    {
      "cell_type": "code",
      "source": [
        "h = a.T\n",
        "print(\"\\nSubject-wise Marks:\\n\", h)"
      ],
      "metadata": {
        "colab": {
          "base_uri": "https://localhost:8080/"
        },
        "id": "8OH-IapnEN8B",
        "outputId": "be06b621-264b-4abb-db67-9eb52717e3bb"
      },
      "execution_count": 11,
      "outputs": [
        {
          "output_type": "stream",
          "name": "stdout",
          "text": [
            "\n",
            "Subject-wise Marks:\n",
            " [[85 76 90 65 88]\n",
            " [78 88 94 70 91]\n",
            " [92 81 89 72 85]]\n"
          ]
        }
      ]
    },
    {
      "cell_type": "code",
      "source": [
        "print(\"\\nAnalysis:\")\n",
        "print(\"• Student 3 has top marks overall.\")\n",
        "print(\"• Student 4 has lowest average.\")\n",
        "print(\"• Subject 2 has generally high scores.\")\n",
        "print(\"• Many students scored above 80 in at least one subject.\")"
      ],
      "metadata": {
        "colab": {
          "base_uri": "https://localhost:8080/"
        },
        "id": "p18V2PPvEQnE",
        "outputId": "417f5e7c-89e9-4c30-9146-8bde41c9e6fc"
      },
      "execution_count": 12,
      "outputs": [
        {
          "output_type": "stream",
          "name": "stdout",
          "text": [
            "\n",
            "Analysis:\n",
            "• Student 3 has top marks overall.\n",
            "• Student 4 has lowest average.\n",
            "• Subject 2 has generally high scores.\n",
            "• Many students scored above 80 in at least one subject.\n"
          ]
        }
      ]
    }
  ]
}