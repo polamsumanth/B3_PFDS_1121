{
  "nbformat": 4,
  "nbformat_minor": 0,
  "metadata": {
    "colab": {
      "provenance": [],
      "authorship_tag": "ABX9TyNmfu6ZoVKU54dMckcgsEdT",
      "include_colab_link": true
    },
    "kernelspec": {
      "name": "python3",
      "display_name": "Python 3"
    },
    "language_info": {
      "name": "python"
    }
  },
  "cells": [
    {
      "cell_type": "markdown",
      "metadata": {
        "id": "view-in-github",
        "colab_type": "text"
      },
      "source": [
        "<a href=\"https://colab.research.google.com/github/polamsumanth/B3_PFDS_1121/blob/main/FILES_CONCEPTS.ipynb\" target=\"_parent\"><img src=\"https://colab.research.google.com/assets/colab-badge.svg\" alt=\"Open In Colab\"/></a>"
      ]
    },
    {
      "cell_type": "markdown",
      "source": [
        "WRITING A FILE"
      ],
      "metadata": {
        "id": "5xiGyKcQyyll"
      }
    },
    {
      "cell_type": "code",
      "execution_count": 1,
      "metadata": {
        "colab": {
          "base_uri": "https://localhost:8080/"
        },
        "id": "yLw74YQXx5p3",
        "outputId": "069fa1a1-16db-40cb-b0e2-8f4be3e161f3"
      },
      "outputs": [
        {
          "output_type": "stream",
          "name": "stdout",
          "text": [
            "Data Written Successfully!\n"
          ]
        }
      ],
      "source": [
        "file = open(\"myexample.txt\", 'w')\n",
        "file.write(\"Hello, B.tech students!\\n\")\n",
        "file.write(\"This is file handling in Python.\\n\")\n",
        "file.write(\"SR university\")\n",
        "file.close()\n",
        "\n",
        "print(\"Data Written Successfully!\")"
      ]
    },
    {
      "cell_type": "markdown",
      "source": [
        "READING A FILE"
      ],
      "metadata": {
        "id": "RDFQcqXOy3S5"
      }
    },
    {
      "cell_type": "code",
      "source": [
        "file = open(\"myexample.txt\", \"r\")\n",
        "content = file.read()\n",
        "print(\"File Content:\\n\", content)\n",
        "file.close()"
      ],
      "metadata": {
        "colab": {
          "base_uri": "https://localhost:8080/"
        },
        "id": "UCll8fcayAas",
        "outputId": "8095eca7-eb63-4ea4-d9d2-c47a007aca18"
      },
      "execution_count": 2,
      "outputs": [
        {
          "output_type": "stream",
          "name": "stdout",
          "text": [
            "File Content:\n",
            " Hello, B.tech students!\n",
            "This is file handling in Python.\n",
            "SR university\n"
          ]
        }
      ]
    },
    {
      "cell_type": "markdown",
      "source": [
        "READING LINE BY LINE"
      ],
      "metadata": {
        "id": "fEG6KlYTzczU"
      }
    },
    {
      "cell_type": "code",
      "source": [
        "file = open(\"myexample.txt\", \"r\")\n",
        "line1 = file.readline()\n",
        "print(\"First Line:\", line1)\n",
        "line2 = file.readline()\n",
        "print(\"Second Line:\", line2)\n",
        "line3 = file.readline()\n",
        "print(\"Line:\", line3)\n",
        "file.close()"
      ],
      "metadata": {
        "colab": {
          "base_uri": "https://localhost:8080/"
        },
        "id": "9gKR3n_lyEp5",
        "outputId": "4cde87cb-e9df-4cf6-9ad3-d7548de86981"
      },
      "execution_count": 3,
      "outputs": [
        {
          "output_type": "stream",
          "name": "stdout",
          "text": [
            "First Line: Hello, B.tech students!\n",
            "\n",
            "Second Line: This is file handling in Python.\n",
            "\n",
            "Line: SR university\n"
          ]
        }
      ]
    },
    {
      "cell_type": "markdown",
      "source": [
        "READING ALL LINES"
      ],
      "metadata": {
        "id": "CtCooXY3y9bn"
      }
    },
    {
      "cell_type": "code",
      "source": [
        "file = open(\"myexample.txt\", \"r\")\n",
        "lines = file.readlines()\n",
        "print(\"All Lines as List:\", lines)\n",
        "file.close()"
      ],
      "metadata": {
        "colab": {
          "base_uri": "https://localhost:8080/"
        },
        "id": "sq_-hJSayFYU",
        "outputId": "1e640101-1aec-453b-dea8-546d6845b987"
      },
      "execution_count": 4,
      "outputs": [
        {
          "output_type": "stream",
          "name": "stdout",
          "text": [
            "All Lines as List: ['Hello, B.tech students!\\n', 'This is file handling in Python.\\n', 'SR university']\n"
          ]
        }
      ]
    },
    {
      "cell_type": "markdown",
      "source": [
        "APPENDING.."
      ],
      "metadata": {
        "id": "vCU2osRlzAin"
      }
    },
    {
      "cell_type": "code",
      "source": [
        "file = open(\"myexample.txt\", \"a\")\n",
        "file.write(\"Appending new data...\\n\")\n",
        "file.close()"
      ],
      "metadata": {
        "id": "WhBfX_ndyHdL"
      },
      "execution_count": 5,
      "outputs": []
    },
    {
      "cell_type": "markdown",
      "source": [
        "WITH STATEMENT"
      ],
      "metadata": {
        "id": "8tDYKcV7zDKg"
      }
    },
    {
      "cell_type": "code",
      "source": [
        "with open(\"myexample.txt\", \"r\") as file:\n",
        "  data = file.read()\n",
        "  print(data)"
      ],
      "metadata": {
        "colab": {
          "base_uri": "https://localhost:8080/"
        },
        "id": "drCvuXh1yJvH",
        "outputId": "8833995d-75f7-4318-9e05-bdcb9d9472d3"
      },
      "execution_count": 6,
      "outputs": [
        {
          "output_type": "stream",
          "name": "stdout",
          "text": [
            "Hello, B.tech students!\n",
            "This is file handling in Python.\n",
            "SR universityAppending new data...\n",
            "\n"
          ]
        }
      ]
    },
    {
      "cell_type": "markdown",
      "source": [
        "CSV FILE"
      ],
      "metadata": {
        "id": "7hrJy9cWzF0n"
      }
    },
    {
      "cell_type": "code",
      "source": [
        "import csv\n",
        "with open(\"data.csv\", \"w\", newline='') as fp:\n",
        "  wr = csv.writer(fp)\n",
        "  wr.writerow([\"Name\", \"Age\", \"Course\"])\n",
        "  wr.writerow([\"Sumanth\", \"20\", \"CSE\"])\n",
        "  wr.writerow([\"Thrishool\", \"21\", \"ECE\"])"
      ],
      "metadata": {
        "id": "C1GiytAkyRY0"
      },
      "execution_count": 7,
      "outputs": []
    },
    {
      "cell_type": "markdown",
      "source": [
        "READING CSV DATA FILE"
      ],
      "metadata": {
        "id": "uodhTl5YzIPd"
      }
    },
    {
      "cell_type": "code",
      "source": [
        "with open (\"data.csv\", \"r\") as file:\n",
        "  re = csv.reader(file)\n",
        "  for row in re:\n",
        "    print(row)"
      ],
      "metadata": {
        "colab": {
          "base_uri": "https://localhost:8080/"
        },
        "id": "lxBh2HOIzKgT",
        "outputId": "dcc008a4-4e27-4687-c700-b6476a21c077"
      },
      "execution_count": 8,
      "outputs": [
        {
          "output_type": "stream",
          "name": "stdout",
          "text": [
            "['Name', 'Age', 'Course']\n",
            "['Sumanth', '20', 'CSE']\n",
            "['Thrishool', '21', 'ECE']\n"
          ]
        }
      ]
    },
    {
      "cell_type": "markdown",
      "source": [
        "FILE CLASSROOM EXERCISE"
      ],
      "metadata": {
        "id": "nfa-e6FH4EOa"
      }
    },
    {
      "cell_type": "markdown",
      "source": [
        "Q. Create a Python Script that:\n",
        ".Takes user input for name and marks\n",
        ".Writes it to a file\n",
        ".Reads and displays all entries"
      ],
      "metadata": {
        "id": "rpLa32Cm4J93"
      }
    },
    {
      "cell_type": "code",
      "source": [
        "import csv\n",
        "\n",
        "with open(\"Classroom_file.csv\", 'w', newline='') as fp:\n",
        "    wr = csv.writer(fp)\n",
        "    wr.writerow([\"Name\", \"Marks\"])\n",
        "    for i in range(4):\n",
        "        name = input(\"Enter name: \")\n",
        "        marks = int(input(\"Enter marks: \"))\n",
        "        wr.writerow([name, marks])"
      ],
      "metadata": {
        "colab": {
          "base_uri": "https://localhost:8080/"
        },
        "id": "Jwa6suhf4H5I",
        "outputId": "85cf3ae8-b6a7-4d33-870a-07b2e55f9cc9"
      },
      "execution_count": 11,
      "outputs": [
        {
          "name": "stdout",
          "output_type": "stream",
          "text": [
            "Enter name: Sumanth\n",
            "Enter marks: 100\n",
            "Enter name: Thrishool\n",
            "Enter marks: 50\n",
            "Enter name: Sai \n",
            "Enter marks: 55\n",
            "Enter name: Nagii\n",
            "Enter marks: 10\n"
          ]
        }
      ]
    }
  ]
}