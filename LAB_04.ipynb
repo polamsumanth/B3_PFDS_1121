{
  "nbformat": 4,
  "nbformat_minor": 0,
  "metadata": {
    "colab": {
      "provenance": [],
      "authorship_tag": "ABX9TyME8bnKqRtgUgOjkpn/F60q",
      "include_colab_link": true
    },
    "kernelspec": {
      "name": "python3",
      "display_name": "Python 3"
    },
    "language_info": {
      "name": "python"
    }
  },
  "cells": [
    {
      "cell_type": "markdown",
      "metadata": {
        "id": "view-in-github",
        "colab_type": "text"
      },
      "source": [
        "<a href=\"https://colab.research.google.com/github/polamsumanth/B3_PFDS_1121/blob/main/LAB_04.ipynb\" target=\"_parent\"><img src=\"https://colab.research.google.com/assets/colab-badge.svg\" alt=\"Open In Colab\"/></a>"
      ]
    },
    {
      "cell_type": "markdown",
      "source": [
        "QUESTION 1 : STUDENT MARKS ANALYSIS"
      ],
      "metadata": {
        "id": "wUOSKk9s_vXG"
      }
    },
    {
      "cell_type": "code",
      "execution_count": 10,
      "metadata": {
        "colab": {
          "base_uri": "https://localhost:8080/"
        },
        "id": "ywsxQSdR4sUR",
        "outputId": "a372b754-0f16-4df5-e4d1-cb8e703baef1"
      },
      "outputs": [
        {
          "name": "stdout",
          "output_type": "stream",
          "text": [
            "Enter Student ID: 1121\n",
            "Enter Student Name: SUMANTH\n",
            "Enter Maths Marks: 100\n",
            "Enter Science Marks: 90\n",
            "Enter English Marks: 80\n",
            "Enter Student ID: 1125\n",
            "Enter Student Name: RISHAAK\n",
            "Enter Maths Marks: 80\n",
            "Enter Science Marks: 95\n",
            "Enter English Marks: 100\n",
            "Enter Student ID: 1127\n",
            "Enter Student Name: THRISHOOL\n",
            "Enter Maths Marks: 85\n",
            "Enter Science Marks: 75\n",
            "Enter English Marks: 100\n"
          ]
        }
      ],
      "source": [
        "import csv\n",
        "with open(\"student_scores.csv\",'w', newline = '') as fp:\n",
        "  wr = csv.writer(fp)\n",
        "  wr.writerow([\"ID\", \"NAME\", \"MATHS\",\"SCIENCE\",\"ENGLISH\"])\n",
        "  for i in range(3):\n",
        "    student_ID = int(input(\"Enter Student ID: \"))\n",
        "    Name = input(\"Enter Student Name: \")\n",
        "    Maths = int(input(\"Enter Maths Marks: \"))\n",
        "    Science = int(input(\"Enter Science Marks: \"))\n",
        "    English = int(input(\"Enter English Marks: \"))\n",
        "    wr.writerow([student_ID, Name, Maths, Science, English])"
      ]
    },
    {
      "cell_type": "code",
      "source": [
        "import csv\n",
        "with open(\"student_scores.csv\",'r') as fp:\n",
        "  rd = csv.reader(fp)\n",
        "  for row in rd:\n",
        "    print(row)"
      ],
      "metadata": {
        "colab": {
          "base_uri": "https://localhost:8080/"
        },
        "id": "nxgh2tho-qVH",
        "outputId": "ce34cb2a-799f-4809-9aa8-9ec87a3da9f6"
      },
      "execution_count": 11,
      "outputs": [
        {
          "output_type": "stream",
          "name": "stdout",
          "text": [
            "['ID', 'NAME', 'MATHS', 'SCIENCE', 'ENGLISH']\n",
            "['1121', 'SUMANTH', '100', '90', '80']\n",
            "['1125', 'RISHAAK', '80', '95', '100']\n",
            "['1127', 'THRISHOOL', '85', '75', '100']\n"
          ]
        }
      ]
    },
    {
      "cell_type": "markdown",
      "source": [
        "QUESTION 2 : HOSPITAL PATIENT RECORDS"
      ],
      "metadata": {
        "id": "mNCWVNmYEr20"
      }
    },
    {
      "cell_type": "code",
      "source": [
        "import csv\n",
        "with open(\"hospital_records.csv\",'w', newline = '') as fp:\n",
        "  wr = csv.writer(fp)\n",
        "  wr.writerow([\"Patient_ID\", \"Name\", \"Age\", \"Gender\",\n",
        "\"Diagnosis\", \"Admission_Date\"])\n",
        "  for i in range(3):\n",
        "    Patient_ID = int(input(\"Enter Patient ID: \"))\n",
        "    Name = input(\"Enter Patient Name: \")\n",
        "    Age = int(input(\"Enter Patient Age: \"))\n",
        "    Gender = input(\"Enter Patient Gender: \")\n",
        "    Diagnosis = input(\"Enter Patient Diagnosis: \")\n",
        "    Admission_Date = input(\"Enter Patient Admission Date: \")\n",
        "    wr.writerow([Patient_ID, Name, Age, Gender,\n",
        "Diagnosis, Admission_Date])"
      ],
      "metadata": {
        "colab": {
          "base_uri": "https://localhost:8080/"
        },
        "id": "u0FpRtr9E0Za",
        "outputId": "6fbe76b5-5171-48f5-d58c-bffc0bea0712"
      },
      "execution_count": 12,
      "outputs": [
        {
          "name": "stdout",
          "output_type": "stream",
          "text": [
            "Enter Patient ID: 101\n",
            "Enter Patient Name: SAI\n",
            "Enter Patient Age: 25\n",
            "Enter Patient Gender: M\n",
            "Enter Patient Diagnosis: BP\n",
            "Enter Patient Admission Date: 10-08-2025\n",
            "Enter Patient ID: 102\n",
            "Enter Patient Name: SHIVA\n",
            "Enter Patient Age: 35\n",
            "Enter Patient Gender: M\n",
            "Enter Patient Diagnosis: SUGAR\n",
            "Enter Patient Admission Date: 12-08-2025\n",
            "Enter Patient ID: 103\n",
            "Enter Patient Name: SITA\n",
            "Enter Patient Age: 32\n",
            "Enter Patient Gender: FM\n",
            "Enter Patient Diagnosis: PARALYSIS\n",
            "Enter Patient Admission Date: 18-08-2025\n"
          ]
        }
      ]
    },
    {
      "cell_type": "code",
      "source": [
        "import csv\n",
        "with open(\"hospital_records.csv\",'r') as fp:\n",
        "  rd = csv.reader(fp)\n",
        "  for row in rd:\n",
        "    print(row)"
      ],
      "metadata": {
        "colab": {
          "base_uri": "https://localhost:8080/"
        },
        "id": "vU1mvJJdGNiI",
        "outputId": "545843a9-85a0-42e0-a02b-3f81f3c8af3b"
      },
      "execution_count": 13,
      "outputs": [
        {
          "output_type": "stream",
          "name": "stdout",
          "text": [
            "['Patient_ID', 'Name', 'Age', 'Gender', 'Diagnosis', 'Admission_Date']\n",
            "['101', 'SAI', '25', 'M', 'BP', '10-08-2025']\n",
            "['102', 'SHIVA', '35', 'M', 'SUGAR', '12-08-2025']\n",
            "['103', 'SITA', '32', 'FM', 'PARALYSIS', '18-08-2025']\n"
          ]
        }
      ]
    }
  ]
}