{
  "nbformat": 4,
  "nbformat_minor": 0,
  "metadata": {
    "colab": {
      "provenance": [],
      "authorship_tag": "ABX9TyOZs0LTnjAjuiJ5wuC3DAJq",
      "include_colab_link": true
    },
    "kernelspec": {
      "name": "python3",
      "display_name": "Python 3"
    },
    "language_info": {
      "name": "python"
    }
  },
  "cells": [
    {
      "cell_type": "markdown",
      "metadata": {
        "id": "view-in-github",
        "colab_type": "text"
      },
      "source": [
        "<a href=\"https://colab.research.google.com/github/polamsumanth/B3_PFDS_1121/blob/main/NUMPY_CONCEPTS.ipynb\" target=\"_parent\"><img src=\"https://colab.research.google.com/assets/colab-badge.svg\" alt=\"Open In Colab\"/></a>"
      ]
    },
    {
      "cell_type": "markdown",
      "source": [
        "NUMPY"
      ],
      "metadata": {
        "id": "VGDpE0l7wUnh"
      }
    },
    {
      "cell_type": "code",
      "execution_count": 8,
      "metadata": {
        "colab": {
          "base_uri": "https://localhost:8080/"
        },
        "id": "m4ewkbDMvWec",
        "outputId": "1a087b2a-d2b6-4a64-86ed-2797d18c97f7"
      },
      "outputs": [
        {
          "output_type": "stream",
          "name": "stdout",
          "text": [
            "[1 2 3 4]\n",
            "[[1 2]\n",
            " [3 4]]\n",
            "[[0. 0.]\n",
            " [0. 0.]]\n",
            "[[1. 1. 1.]\n",
            " [1. 1. 1.]]\n",
            "Done\n"
          ]
        }
      ],
      "source": [
        "import numpy as np\n",
        "a = np.array([1,2,3,4])\n",
        "print(a)\n",
        "b = np.array([[1,2],[3,4]])\n",
        "print(b)\n",
        "c = np.zeros((2,2))\n",
        "print(c)\n",
        "d = np.ones((2,3))\n",
        "print(d)\n",
        "print('Done')"
      ]
    },
    {
      "cell_type": "markdown",
      "source": [
        "RANGE OF NUMBERS"
      ],
      "metadata": {
        "id": "fKRz85X-wXnK"
      }
    },
    {
      "cell_type": "code",
      "source": [
        "range_arr = np.array([0,10,2])\n",
        "print(\"Range Array: \", range_arr)"
      ],
      "metadata": {
        "colab": {
          "base_uri": "https://localhost:8080/"
        },
        "id": "2on1yfLOwaQt",
        "outputId": "9995acf3-a7fc-4cb8-d165-08a91b6f9781"
      },
      "execution_count": 9,
      "outputs": [
        {
          "output_type": "stream",
          "name": "stdout",
          "text": [
            "Range Array:  [ 0 10  2]\n"
          ]
        }
      ]
    },
    {
      "cell_type": "markdown",
      "source": [
        "RANDOM ARRAY"
      ],
      "metadata": {
        "id": "6CBypvaUw1H_"
      }
    },
    {
      "cell_type": "code",
      "source": [
        "rand_arr = np.random.rand(2,3)\n",
        "print(\"Random Array:\\n\", rand_arr)"
      ],
      "metadata": {
        "colab": {
          "base_uri": "https://localhost:8080/"
        },
        "id": "SWK9h87Uw3Qs",
        "outputId": "2cfade6a-5ba3-40f5-d0f4-b704e5a71d28"
      },
      "execution_count": 12,
      "outputs": [
        {
          "output_type": "stream",
          "name": "stdout",
          "text": [
            "Random Array:\n",
            " [[0.31386736 0.9050332  0.34348727]\n",
            " [0.95470557 0.58870002 0.41953713]]\n"
          ]
        }
      ]
    },
    {
      "cell_type": "markdown",
      "source": [
        "ATTRIBUTES"
      ],
      "metadata": {
        "id": "t4bcS_ijxgr-"
      }
    },
    {
      "cell_type": "code",
      "source": [
        "a = np.array([[1,2,3],[4,5,6]])\n",
        "print(a.shape)\n",
        "print(a.ndim)\n",
        "print(a.dtype)\n",
        "print(a.size)\n",
        "print(a.itemsize)"
      ],
      "metadata": {
        "colab": {
          "base_uri": "https://localhost:8080/"
        },
        "id": "6j3aKcIHxiuh",
        "outputId": "94b36e63-83d4-47db-f404-3fd13f8e3859"
      },
      "execution_count": 15,
      "outputs": [
        {
          "output_type": "stream",
          "name": "stdout",
          "text": [
            "(2, 3)\n",
            "2\n",
            "int64\n",
            "6\n",
            "8\n"
          ]
        }
      ]
    },
    {
      "cell_type": "markdown",
      "source": [
        "ARRAY INDEXING AND SLICING"
      ],
      "metadata": {
        "id": "JTVULUCMyHyn"
      }
    },
    {
      "cell_type": "code",
      "source": [
        "a = np.array([10,20,30,40])\n",
        "print(a[2])\n",
        "print(a[3])\n",
        "print(a[-1])\n",
        "print(a[1:3])\n",
        "print(a[::2])\n",
        "print(a[1::])"
      ],
      "metadata": {
        "colab": {
          "base_uri": "https://localhost:8080/"
        },
        "id": "7IZkQsCCyKsR",
        "outputId": "786c3605-3291-415d-8672-b529c998c13f"
      },
      "execution_count": 17,
      "outputs": [
        {
          "output_type": "stream",
          "name": "stdout",
          "text": [
            "30\n",
            "40\n",
            "40\n",
            "[20 30]\n",
            "[10 30]\n",
            "[20 30 40]\n"
          ]
        }
      ]
    },
    {
      "cell_type": "markdown",
      "source": [
        "2D ARRAY"
      ],
      "metadata": {
        "id": "aUaDNKgJymYe"
      }
    },
    {
      "cell_type": "code",
      "source": [
        "a = np.array([[10,20,30], [40,50,60]])\n",
        "print(a[1][1])\n",
        "print(a[0:1])\n",
        "print(a[1:])\n",
        "print(a[::1])"
      ],
      "metadata": {
        "colab": {
          "base_uri": "https://localhost:8080/"
        },
        "id": "tCj8IdgUynwb",
        "outputId": "0f3771d9-13a0-409a-b871-22cd2cc5602a"
      },
      "execution_count": 19,
      "outputs": [
        {
          "output_type": "stream",
          "name": "stdout",
          "text": [
            "50\n",
            "[[10 20 30]]\n",
            "[[40 50 60]]\n",
            "[[10 20 30]\n",
            " [40 50 60]]\n"
          ]
        }
      ]
    },
    {
      "cell_type": "markdown",
      "source": [
        "ARITHEMATIC OPERATIONS"
      ],
      "metadata": {
        "id": "Wgvup_Z2zKWe"
      }
    },
    {
      "cell_type": "code",
      "source": [
        "a = np.array([1,2,3])\n",
        "b = np.array([4,5,6])\n",
        "print(a+b)\n",
        "print(a-b)\n",
        "print(a*b)\n",
        "print(a**b)\n",
        "print(a/b)"
      ],
      "metadata": {
        "colab": {
          "base_uri": "https://localhost:8080/"
        },
        "id": "ThUoBPZLzMaN",
        "outputId": "1b9203cc-886f-4782-8b72-1f448bb90bcf"
      },
      "execution_count": 20,
      "outputs": [
        {
          "output_type": "stream",
          "name": "stdout",
          "text": [
            "[5 7 9]\n",
            "[-3 -3 -3]\n",
            "[ 4 10 18]\n",
            "[  1  32 729]\n",
            "[0.25 0.4  0.5 ]\n"
          ]
        }
      ]
    },
    {
      "cell_type": "markdown",
      "source": [
        "AGGREGATE FUNCTIONS"
      ],
      "metadata": {
        "id": "CqCRMcsqzltB"
      }
    },
    {
      "cell_type": "code",
      "source": [
        "a = np.array([[1,2,3],[4,5,6]])\n",
        "print(np.sum(a))\n",
        "print(np.max(a))\n",
        "print(np.min(a))\n",
        "print(np.mean(a))\n",
        "print(np.std(a))\n",
        "print(np.sum(a, axis=0))\n",
        "print(np.sum(a, axis=1))"
      ],
      "metadata": {
        "colab": {
          "base_uri": "https://localhost:8080/"
        },
        "id": "1zmh9wYbzwL2",
        "outputId": "77199436-b275-402f-c021-4a99a3161b54"
      },
      "execution_count": 23,
      "outputs": [
        {
          "output_type": "stream",
          "name": "stdout",
          "text": [
            "21\n",
            "6\n",
            "1\n",
            "6\n",
            "3.5\n",
            "1.707825127659933\n",
            "[5 7 9]\n",
            "[ 6 15]\n"
          ]
        }
      ]
    },
    {
      "cell_type": "markdown",
      "source": [
        "BROAD CASTING"
      ],
      "metadata": {
        "id": "F7hbI9420fkM"
      }
    },
    {
      "cell_type": "code",
      "source": [
        "a = np.array([1,2,3])\n",
        "b = 5\n",
        "print(a+b)\n",
        "print(a*b)"
      ],
      "metadata": {
        "colab": {
          "base_uri": "https://localhost:8080/"
        },
        "id": "jhRcRIr20hIJ",
        "outputId": "2b8a8515-1353-4cc3-8422-3373e5e81918"
      },
      "execution_count": 24,
      "outputs": [
        {
          "output_type": "stream",
          "name": "stdout",
          "text": [
            "[6 7 8]\n",
            "[ 5 10 15]\n"
          ]
        }
      ]
    }
  ]
}